{
  "nbformat": 4,
  "nbformat_minor": 0,
  "metadata": {
    "colab": {
      "provenance": []
    },
    "kernelspec": {
      "name": "python3",
      "display_name": "Python 3"
    },
    "language_info": {
      "name": "python"
    }
  },
  "cells": [
    {
      "cell_type": "code",
      "source": [
        "from functools import reduce\n",
        "import pandas as pd\n",
        "\n",
        "# Load dataset\n",
        "df = pd.read_csv(\"word_dataset.csv\")\n",
        "\n",
        "# Convert column to list\n",
        "dataset = df[\"Word\"].tolist()\n",
        "\n",
        "# Map function: Assign 1 to each word\n",
        "mapped_words = list(map(lambda word: (word, 1), dataset))\n",
        "\n",
        "# Reduce function: Count occurrences of each word\n",
        "def reduce_word_count(acc, word_tuple):\n",
        "    word, count = word_tuple\n",
        "    acc[word] = acc.get(word, 0) + count\n",
        "    return acc\n",
        "\n",
        "# Applying reduce function\n",
        "word_counts = reduce(reduce_word_count, mapped_words, {})\n",
        "\n",
        "# Output the result\n",
        "print(\"Word Counts:\", word_counts)\n"
      ],
      "metadata": {
        "colab": {
          "base_uri": "https://localhost:8080/"
        },
        "id": "LI7ivxy6ajJ1",
        "outputId": "d20ee5f4-191a-44bf-c126-a6d88d111604"
      },
      "execution_count": 1,
      "outputs": [
        {
          "output_type": "stream",
          "name": "stdout",
          "text": [
            "Word Counts: {'apple': 50, 'banana': 30, 'cherry': 20, 'date': 15, 'elderberry': 10}\n"
          ]
        }
      ]
    }
  ]
}